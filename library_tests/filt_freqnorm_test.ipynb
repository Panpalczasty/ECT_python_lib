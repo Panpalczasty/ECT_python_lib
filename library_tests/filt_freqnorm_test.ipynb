{
 "cells": [
  {
   "cell_type": "code",
   "execution_count": 1,
   "metadata": {},
   "outputs": [],
   "source": [
    "import ect\n",
    "import cv2\n",
    "import numpy as np\n",
    "\n",
    "import matplotlib.pyplot as plt"
   ]
  },
  {
   "cell_type": "code",
   "execution_count": 2,
   "metadata": {},
   "outputs": [],
   "source": [
    "source_img = \"../sample_imgs/dupa.png\"\n",
    "radius = 200\n",
    "\n",
    "image = cv2.imread(source_img)\n",
    "log = ect.logpolar(image, radius, offset=0)"
   ]
  },
  {
   "cell_type": "code",
   "execution_count": 5,
   "metadata": {},
   "outputs": [
    {
     "data": {
      "text/plain": [
       "<matplotlib.image.AxesImage at 0x7faa0cbf3610>"
      ]
     },
     "execution_count": 5,
     "metadata": {},
     "output_type": "execute_result"
    },
    {
     "data": {
      "image/png": "[encoded data removed]",
      "text/plain": [
       "<Figure size 432x288 with 1 Axes>"
      ]
     },
     "metadata": {
      "needs_background": "light"
     },
     "output_type": "display_data"
    }
   ],
   "source": [
    "knotvals = np.array([1, 0, 1, 0, 1])\n",
    "\n",
    "filt = ect.spacenorm(\n",
    "    log.shape[:2], \n",
    "    radius, \n",
    "    knot_values = knotvals)\n",
    "\n",
    "# plt.plot(filt[0, :])\n",
    "plt.imshow(filt)"
   ]
  },
  {
   "cell_type": "code",
   "execution_count": null,
   "metadata": {},
   "outputs": [
    {
     "data": {
      "text/plain": [
       "array([[[1.        ],\n",
       "        [0.92120599],\n",
       "        [0.84559549],\n",
       "        ...,\n",
       "        [0.84559549],\n",
       "        [0.92120599],\n",
       "        [1.        ]],\n",
       "\n",
       "       [[1.        ],\n",
       "        [0.92120599],\n",
       "        [0.84559549],\n",
       "        ...,\n",
       "        [0.84559549],\n",
       "        [0.92120599],\n",
       "        [1.        ]],\n",
       "\n",
       "       [[1.        ],\n",
       "        [0.92120599],\n",
       "        [0.84559549],\n",
       "        ...,\n",
       "        [0.84559549],\n",
       "        [0.92120599],\n",
       "        [1.        ]],\n",
       "\n",
       "       ...,\n",
       "\n",
       "       [[1.        ],\n",
       "        [0.92120599],\n",
       "        [0.84559549],\n",
       "        ...,\n",
       "        [0.84559549],\n",
       "        [0.92120599],\n",
       "        [1.        ]],\n",
       "\n",
       "       [[1.        ],\n",
       "        [0.92120599],\n",
       "        [0.84559549],\n",
       "        ...,\n",
       "        [0.84559549],\n",
       "        [0.92120599],\n",
       "        [1.        ]],\n",
       "\n",
       "       [[1.        ],\n",
       "        [0.92120599],\n",
       "        [0.84559549],\n",
       "        ...,\n",
       "        [0.84559549],\n",
       "        [0.92120599],\n",
       "        [1.        ]]])"
      ]
     },
     "execution_count": 8,
     "metadata": {},
     "output_type": "execute_result"
    }
   ],
   "source": []
  },
  {
   "cell_type": "code",
   "execution_count": null,
   "metadata": {},
   "outputs": [],
   "source": []
  }
 ],
 "metadata": {
  "kernelspec": {
   "display_name": "Python 3",
   "language": "python",
   "name": "python3"
  },
  "language_info": {
   "codemirror_mode": {
    "name": "ipython",
    "version": 3
   },
   "file_extension": ".py",
   "mimetype": "text/x-python",
   "name": "python",
   "nbconvert_exporter": "python",
   "pygments_lexer": "ipython3",
   "version": "3.10.12"
  },
  "orig_nbformat": 4
 },
 "nbformat": 4,
 "nbformat_minor": 2
}
