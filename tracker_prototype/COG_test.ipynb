{
 "cells": [
  {
   "cell_type": "code",
   "execution_count": 5,
   "metadata": {},
   "outputs": [
    {
     "name": "stdout",
     "output_type": "stream",
     "text": [
      "cx/c0=5.00, cy/c0=5.00\n"
     ]
    }
   ],
   "source": [
    "from tracker import center_of_mass\n",
    "import numpy as np\n",
    "import cv2\n",
    "\n",
    "image = np.zeros((100, 100))\n",
    "\n",
    "image[:11, :11] = 1\n",
    "\n",
    "m = cv2.moments(image)\n",
    "\n",
    "c0 = m[\"m00\"]\n",
    "cx = m[\"m10\"]\n",
    "cy = m[\"m01\"]\n",
    "\n",
    "print(f\"{cx/c0=:.2f}, {cy/c0=:.2f}\")"
   ]
  },
  {
   "cell_type": "code",
   "execution_count": null,
   "metadata": {},
   "outputs": [],
   "source": []
  }
 ],
 "metadata": {
  "kernelspec": {
   "display_name": "Python 3",
   "language": "python",
   "name": "python3"
  },
  "language_info": {
   "codemirror_mode": {
    "name": "ipython",
    "version": 3
   },
   "file_extension": ".py",
   "mimetype": "text/x-python",
   "name": "python",
   "nbconvert_exporter": "python",
   "pygments_lexer": "ipython3",
   "version": "3.10.12"
  },
  "orig_nbformat": 4
 },
 "nbformat": 4,
 "nbformat_minor": 2
}
