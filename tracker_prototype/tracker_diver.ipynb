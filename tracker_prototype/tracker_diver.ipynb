{
 "cells": [
  {
   "cell_type": "code",
   "execution_count": null,
   "metadata": {},
   "outputs": [],
   "source": [
    "import tracker as tr\n",
    "import ect\n",
    "import matplotlib.pyplot as plt\n",
    "import cv2\n",
    "import numpy as np\n",
    "\n",
    "radius = 200\n",
    "offset = 10\n",
    "ect_offset = 0\n",
    "\n",
    "loader = tr.SequenceLoader(\n",
    "    dirpath = \"../sequence_test\",\n",
    "    root_name = \"1_seq_\",\n",
    "    ftype = \"png\",\n",
    "    index = 0\n",
    ")\n",
    "\n",
    "transformer = tr.UnfilteredTransformation(\n",
    "    img_offset = offset,\n",
    "    ect_offset = ect_offset\n",
    ")\n",
    "\n",
    "matcher = tr.RotShiftMatcher(\n",
    "    transformer = transformer,\n",
    "    center_fnc = tr.center_of_mass,\n",
    "    bp_thresh = 0.1\n",
    ")\n",
    "\n",
    "tracker = tr.TrajectoryLPTracker(\n",
    "    template_path = \"../tracker_tests/1_template.png\",\n",
    "    matcher = matcher,\n",
    "    radius = radius,\n",
    "    offset = offset,\n",
    "    ect_offset = ect_offset\n",
    ")\n",
    "\n",
    "tracker.setup()"
   ]
  }
 ],
 "metadata": {
  "language_info": {
   "name": "python"
  },
  "orig_nbformat": 4
 },
 "nbformat": 4,
 "nbformat_minor": 2
}
